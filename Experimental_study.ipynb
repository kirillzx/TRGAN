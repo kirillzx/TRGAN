{
 "cells": [
  {
   "cell_type": "markdown",
   "metadata": {},
   "source": [
    "# Experimental study for the article\n",
    "## Kirill Zakharov\n",
    "2023"
   ]
  },
  {
   "cell_type": "code",
   "execution_count": 1,
   "metadata": {},
   "outputs": [
    {
     "name": "stderr",
     "output_type": "stream",
     "text": [
      "/Library/Frameworks/Python.framework/Versions/3.11/lib/python3.11/site-packages/torch/_functorch/deprecated.py:58: UserWarning: We've integrated functorch into PyTorch. As the final step of the integration, functorch.vmap is deprecated as of PyTorch 2.0 and will be deleted in a future version of PyTorch >= 2.3. Please use torch.vmap instead; see the PyTorch 2.0 release notes and/or the torch.func migration guide for more details https://pytorch.org/docs/master/func.migrating.html\n",
      "  warn_deprecated('vmap', 'torch.vmap')\n"
     ]
    }
   ],
   "source": [
    "import pandas as pd\n",
    "import numpy as np\n",
    "import matplotlib.pyplot as plt\n",
    "import copy\n",
    "%matplotlib inline\n",
    "\n",
    "import torch\n",
    "from torch import optim\n",
    "from torch.autograd import Variable, grad\n",
    "from torch.utils.data import DataLoader, Dataset\n",
    "import torch.nn as nn\n",
    "import torch.nn.functional as F\n",
    "\n",
    "from sklearn.metrics import mean_squared_error, mean_absolute_error, r2_score\n",
    "from sklearn.preprocessing import MinMaxScaler, StandardScaler\n",
    "from scipy.special import rel_entr, kl_div\n",
    "from scipy.spatial.distance import jensenshannon\n",
    "from scipy.stats import kstest, ks_2samp\n",
    "import scipy.stats as sts\n",
    "from tqdm import tqdm\n",
    "from sdv.metadata import SingleTableMetadata\n",
    "\n",
    "from TRGAN.TRGAN_main import *\n",
    "import TRGAN.Privacy_modules as privacy_trgan\n",
    "from TRGAN.encoders import *\n",
    "import TRGAN.TRGAN_train_load_modules as trgan_train\n",
    "from TRGAN.evaluation_metrics import *\n",
    "from TRGAN.methods_comparison import *\n",
    "from TRGAN.dpgan import *\n",
    "from train import train_all_models\n",
    "\n",
    "import warnings\n",
    "warnings.filterwarnings(\"ignore\")\n",
    "\n",
    "plt.style.use('ggplot')"
   ]
  },
  {
   "cell_type": "code",
   "execution_count": 2,
   "metadata": {},
   "outputs": [],
   "source": [
    "import matplotlib as mpl\n",
    "#set params for the article\n",
    "# mpl.rcParams['xtick.labelsize'] = 16\n",
    "# mpl.rcParams['ytick.labelsize'] = 16\n",
    "# mpl.rcParams['legend.fontsize'] = 14\n",
    "# mpl.rcParams['axes.labelsize'] = 18\n",
    "\n",
    "#set params for the notebook\n",
    "mpl.rcParams['xtick.labelsize'] = 12\n",
    "mpl.rcParams['ytick.labelsize'] = 12\n",
    "mpl.rcParams['legend.fontsize'] = 10\n",
    "mpl.rcParams['axes.labelsize'] = 14"
   ]
  },
  {
   "cell_type": "code",
   "execution_count": 3,
   "metadata": {},
   "outputs": [
    {
     "name": "stderr",
     "output_type": "stream",
     "text": [
      "  0%|          | 0/20 [00:00<?, ?it/s]"
     ]
    },
    {
     "name": "stdout",
     "output_type": "stream",
     "text": [
      "E_oh with (5, 0.1)-Differential Privacy\n"
     ]
    },
    {
     "name": "stderr",
     "output_type": "stream",
     "text": [
      "Loss E_oh: 5.542875533559588e-11 || Privacy Loss E_oh: 0.013647045008838177: 100%|██████████| 20/20 [00:32<00:00,  1.63s/it]  \n",
      "  0%|          | 0/20 [00:00<?, ?it/s]"
     ]
    },
    {
     "name": "stdout",
     "output_type": "stream",
     "text": [
      "E_cl with (0.01, 0.1)-Differential Privacy\n"
     ]
    },
    {
     "name": "stderr",
     "output_type": "stream",
     "text": [
      "Loss E_cl: 5.339708764040552e-07 || Privacy Loss E_cl: 0.507098913192749: 100%|██████████| 20/20 [00:42<00:00,  2.12s/it]   \n"
     ]
    },
    {
     "name": "stdout",
     "output_type": "stream",
     "text": [
      "E_cv with (0.01, 0.1)-Differential Privacy\n"
     ]
    },
    {
     "name": "stderr",
     "output_type": "stream",
     "text": [
      "Loss E_cv: 0.000092855 || Privacy Loss E_cv: 0.084764495: 100%|██████████| 15/15 [00:32<00:00,  2.16s/it] \n",
      "Discriminator Loss: -0.00440 || Discriminator 2 Loss: -0.00483 || Generator Loss: -0.00841 || Supervisor Loss: -0.00599: 100%|██████████| 30/30 [05:38<00:00, 11.28s/it]\n"
     ]
    },
    {
     "name": "stdout",
     "output_type": "stream",
     "text": [
      "TRGAN with (0.3155519726287818, 0.1)-differential privacy\n"
     ]
    },
    {
     "name": "stderr",
     "output_type": "stream",
     "text": [
      "Discriminator Loss: -0.00073 || Discriminator 2 Loss: -0.00038 || Generator Loss: 0.00923 || Supervisor Loss: 0.01209: 100%|██████████| 30/30 [03:12<00:00,  6.42s/it]\n",
      "  0%|          | 0/30 [00:00<?, ?it/s]"
     ]
    },
    {
     "name": "stdout",
     "output_type": "stream",
     "text": [
      "TRGAN with (0.5, 0.1)-differential privacy\n"
     ]
    },
    {
     "name": "stderr",
     "output_type": "stream",
     "text": [
      "Discriminator Loss: -0.00050 || Discriminator 2 Loss: -0.00643 || Generator Loss: 0.00498 || Supervisor Loss: -0.00577: 100%|██████████| 30/30 [04:04<00:00,  8.15s/it]\n",
      "Discriminator Loss: -0.00112 || Discriminator 2 Loss: -0.00135 || Generator Loss: 0.00819 || Supervisor Loss: -0.00901: 100%|██████████| 30/30 [05:56<00:00, 11.89s/it]\n"
     ]
    },
    {
     "name": "stdout",
     "output_type": "stream",
     "text": [
      "TRGAN with (0.31596858456647237, 0.1)-differential privacy\n"
     ]
    },
    {
     "name": "stderr",
     "output_type": "stream",
     "text": [
      "Discriminator Loss: -0.00018 || Discriminator 2 Loss: -0.00034 || Generator Loss: 0.00952 || Supervisor Loss: 0.01283: 100%|██████████| 30/30 [03:24<00:00,  6.82s/it]\n",
      "  0%|          | 0/30 [00:00<?, ?it/s]"
     ]
    },
    {
     "name": "stdout",
     "output_type": "stream",
     "text": [
      "TRGAN with (0.5, 0.1)-differential privacy\n"
     ]
    },
    {
     "name": "stderr",
     "output_type": "stream",
     "text": [
      "Discriminator Loss: -0.00194 || Discriminator 2 Loss: -0.00446 || Generator Loss: -0.00499 || Supervisor Loss: 0.01069: 100%|██████████| 30/30 [04:07<00:00,  8.24s/it]\n",
      "  0%|          | 0/30 [00:00<?, ?it/s]"
     ]
    },
    {
     "name": "stdout",
     "output_type": "stream",
     "text": [
      "TRGAN with (0.5, 0.1)-differential privacy\n"
     ]
    },
    {
     "name": "stderr",
     "output_type": "stream",
     "text": [
      "Discriminator Loss: 0.00021 || Generator Loss: 0.01000: 100%|██████████| 30/30 [01:08<00:00,  2.29s/it]\n",
      "  0%|          | 0/30 [00:00<?, ?it/s]"
     ]
    },
    {
     "name": "stdout",
     "output_type": "stream",
     "text": [
      "TRGAN with (0.5, 0.1)-differential privacy\n"
     ]
    },
    {
     "name": "stderr",
     "output_type": "stream",
     "text": [
      "Discriminator Loss: -0.00172 || Discriminator 2 Loss: -0.00023 || Generator Loss: -0.00999 || Supervisor Loss: -0.00777: 100%|██████████| 30/30 [03:35<00:00,  7.18s/it]\n",
      "Student Loss: nan || Generator Loss: -0.68187: 100%|██████████| 30/30 [03:40<00:00,  7.35s/it]\n"
     ]
    }
   ],
   "source": [
    "data, synth_df, synth_df_rdp, synth_df_ae, synth_df_dpgan, synth_df_trgan_dpgan, synth_df_pategan = train_all_models(load=False, experiment_id='Privacy_RAIF_2_eps=0.5')"
   ]
  },
  {
   "cell_type": "code",
   "execution_count": 5,
   "metadata": {},
   "outputs": [
    {
     "data": {
      "image/png": "[encoded data removed]",
      "text/plain": [
       "<Figure size 1000x800 with 6 Axes>"
      ]
     },
     "metadata": {},
     "output_type": "display_data"
    }
   ],
   "source": [
    "fig, axs = plt.subplots(3, 2, figsize=(10, 8), dpi=100)\n",
    "\n",
    "\n",
    "axs[0, 0].hist(np.log1p(abs(data['amount'])), bins=40, label='Real', alpha=0.6, color='black', density=True)\n",
    "axs[0, 0].hist(np.log1p(abs(synth_df['amount'])), bins=40, label='TRGAN with TDDP', alpha=0.6, color='tab:red', density=True)\n",
    "axs[0, 0].set_xlabel('Amount')\n",
    "axs[0, 0].set_ylabel('Density')\n",
    "axs[0, 0].legend()\n",
    "\n",
    "axs[0, 1].hist(np.log1p(abs(data['amount'])), bins=40, label='Real', alpha=0.6, color='black', density=True)\n",
    "axs[0, 1].hist(np.log1p(abs(synth_df_rdp['amount'])), bins=40, label='TRGAN with RDP', alpha=0.6, color='tab:blue', density=True)\n",
    "axs[0, 1].set_xlabel('Amount')\n",
    "axs[0, 1].set_ylabel('Density')\n",
    "axs[0, 1].legend()\n",
    "\n",
    "axs[1, 0].hist(np.log1p(abs(data['amount'])), bins=40, label='Real', alpha=0.6, color='black', density=True)\n",
    "axs[1, 0].hist(np.log1p(abs(synth_df_ae['amount'])), bins=40, label='TRGAN with AE RDP', alpha=0.6, color='green', density=True)\n",
    "axs[1, 0].set_xlabel('Amount')\n",
    "axs[1, 0].set_ylabel('Density')\n",
    "axs[1, 0].legend()\n",
    "\n",
    "axs[1, 1].hist(np.log1p(abs(data['amount'])), bins=40, label='Real', alpha=0.6, color='black', density=True)\n",
    "axs[1, 1].hist(np.log1p(abs(synth_df_trgan_dpgan['amount'])), bins=40, label='TRGAN with DPGAN', alpha=0.6, color='lightblue', density=True)\n",
    "axs[1, 1].set_xlabel('Amount')\n",
    "axs[1, 1].set_ylabel('Density')\n",
    "axs[1, 1].legend()\n",
    "\n",
    "axs[2, 0].hist(np.log1p(abs(data['amount'])), bins=40, label='Real', alpha=0.6, color='black', density=True)\n",
    "axs[2, 0].hist(np.log1p(abs(synth_df_dpgan['amount'])), bins=40, label='DPGAN', alpha=0.6, color='darkorchid', density=True)\n",
    "axs[2, 0].set_xlabel('Amount')\n",
    "axs[2, 0].set_ylabel('Density')\n",
    "axs[2, 0].legend()\n",
    "\n",
    "axs[2, 1].hist(np.log1p(abs(data['amount'])), bins=40, label='Real', alpha=0.6, color='black', density=True)\n",
    "axs[2, 1].hist(np.log1p(abs(synth_df_pategan['amount'])), bins=40, label='PATEGAN', alpha=0.6, color='orange', density=True)\n",
    "axs[2, 1].set_xlabel('Amount')\n",
    "axs[2, 1].set_ylabel('Density')\n",
    "axs[2, 1].legend()\n",
    "\n",
    "plt.tight_layout(pad=0.5)\n",
    "plt.subplots_adjust(hspace=0.50, wspace=0.20)\n",
    "# plt.savefig('privacy_amount.pdf', dpi=300)\n",
    "plt.show()"
   ]
  },
  {
   "cell_type": "code",
   "execution_count": 6,
   "metadata": {},
   "outputs": [
    {
     "data": {
      "text/html": [
       "<div>\n",
       "<style scoped>\n",
       "    .dataframe tbody tr th:only-of-type {\n",
       "        vertical-align: middle;\n",
       "    }\n",
       "\n",
       "    .dataframe tbody tr th {\n",
       "        vertical-align: top;\n",
       "    }\n",
       "\n",
       "    .dataframe thead th {\n",
       "        text-align: right;\n",
       "    }\n",
       "</style>\n",
       "<table border=\"1\" class=\"dataframe\">\n",
       "  <thead>\n",
       "    <tr style=\"text-align: right;\">\n",
       "      <th></th>\n",
       "      <th>Mean</th>\n",
       "      <th>Std</th>\n",
       "      <th>Kurtosis</th>\n",
       "      <th>Skewness</th>\n",
       "      <th>D_JS</th>\n",
       "      <th>KS2test</th>\n",
       "      <th>Wassertein distance</th>\n",
       "    </tr>\n",
       "  </thead>\n",
       "  <tbody>\n",
       "    <tr>\n",
       "      <th>Real</th>\n",
       "      <td>3.202157</td>\n",
       "      <td>0.832387</td>\n",
       "      <td>-0.951807</td>\n",
       "      <td>-0.028051</td>\n",
       "      <td>0.000000</td>\n",
       "      <td>0.000000</td>\n",
       "      <td>0.000000</td>\n",
       "    </tr>\n",
       "    <tr>\n",
       "      <th>TRGAN with TDDP</th>\n",
       "      <td>3.205330</td>\n",
       "      <td>0.832787</td>\n",
       "      <td>-0.952207</td>\n",
       "      <td>-0.028733</td>\n",
       "      <td>0.000381</td>\n",
       "      <td>0.006448</td>\n",
       "      <td>0.003560</td>\n",
       "    </tr>\n",
       "    <tr>\n",
       "      <th>TRGAN with RDP-GAN</th>\n",
       "      <td>3.210400</td>\n",
       "      <td>0.832025</td>\n",
       "      <td>-0.947473</td>\n",
       "      <td>-0.028119</td>\n",
       "      <td>0.000681</td>\n",
       "      <td>0.012540</td>\n",
       "      <td>0.008489</td>\n",
       "    </tr>\n",
       "    <tr>\n",
       "      <th>TRGAN with DP AE</th>\n",
       "      <td>3.203981</td>\n",
       "      <td>0.833656</td>\n",
       "      <td>-0.951416</td>\n",
       "      <td>-0.030591</td>\n",
       "      <td>0.000377</td>\n",
       "      <td>0.006195</td>\n",
       "      <td>0.002877</td>\n",
       "    </tr>\n",
       "    <tr>\n",
       "      <th>TRGAN with DPGAN</th>\n",
       "      <td>3.198981</td>\n",
       "      <td>0.833123</td>\n",
       "      <td>-0.950738</td>\n",
       "      <td>-0.030508</td>\n",
       "      <td>0.000401</td>\n",
       "      <td>0.006127</td>\n",
       "      <td>0.003301</td>\n",
       "    </tr>\n",
       "    <tr>\n",
       "      <th>DPGAN</th>\n",
       "      <td>3.224998</td>\n",
       "      <td>0.834956</td>\n",
       "      <td>-0.921014</td>\n",
       "      <td>-0.031455</td>\n",
       "      <td>0.003281</td>\n",
       "      <td>0.032579</td>\n",
       "      <td>0.028708</td>\n",
       "    </tr>\n",
       "    <tr>\n",
       "      <th>PATEGAN</th>\n",
       "      <td>3.181954</td>\n",
       "      <td>0.841412</td>\n",
       "      <td>-0.912143</td>\n",
       "      <td>-0.044390</td>\n",
       "      <td>0.004752</td>\n",
       "      <td>0.032203</td>\n",
       "      <td>0.031842</td>\n",
       "    </tr>\n",
       "  </tbody>\n",
       "</table>\n",
       "</div>"
      ],
      "text/plain": [
       "                        Mean       Std  Kurtosis  Skewness      D_JS  \\\n",
       "Real                3.202157  0.832387 -0.951807 -0.028051  0.000000   \n",
       "TRGAN with TDDP     3.205330  0.832787 -0.952207 -0.028733  0.000381   \n",
       "TRGAN with RDP-GAN  3.210400  0.832025 -0.947473 -0.028119  0.000681   \n",
       "TRGAN with DP AE    3.203981  0.833656 -0.951416 -0.030591  0.000377   \n",
       "TRGAN with DPGAN    3.198981  0.833123 -0.950738 -0.030508  0.000401   \n",
       "DPGAN               3.224998  0.834956 -0.921014 -0.031455  0.003281   \n",
       "PATEGAN             3.181954  0.841412 -0.912143 -0.044390  0.004752   \n",
       "\n",
       "                     KS2test  Wassertein distance  \n",
       "Real                0.000000             0.000000  \n",
       "TRGAN with TDDP     0.006448             0.003560  \n",
       "TRGAN with RDP-GAN  0.012540             0.008489  \n",
       "TRGAN with DP AE    0.006195             0.002877  \n",
       "TRGAN with DPGAN    0.006127             0.003301  \n",
       "DPGAN               0.032579             0.028708  \n",
       "PATEGAN             0.032203             0.031842  "
      ]
     },
     "execution_count": 6,
     "metadata": {},
     "output_type": "execute_result"
    }
   ],
   "source": [
    "evaluate_numerical([data['amount'], synth_df['amount'], synth_df_rdp['amount'], synth_df_ae['amount'],\\\n",
    "                    synth_df_trgan_dpgan['amount'], synth_df_dpgan['amount'], synth_df_pategan['amount']],\\\n",
    "                    ['Real', 'TRGAN with TDDP', 'TRGAN with RDP-GAN', 'TRGAN with DP AE', 'TRGAN with DPGAN', 'DPGAN', 'PATEGAN'])"
   ]
  },
  {
   "cell_type": "code",
   "execution_count": 7,
   "metadata": {},
   "outputs": [
    {
     "data": {
      "text/html": [
       "<div>\n",
       "<style scoped>\n",
       "    .dataframe tbody tr th:only-of-type {\n",
       "        vertical-align: middle;\n",
       "    }\n",
       "\n",
       "    .dataframe tbody tr th {\n",
       "        vertical-align: top;\n",
       "    }\n",
       "\n",
       "    .dataframe thead th {\n",
       "        text-align: right;\n",
       "    }\n",
       "</style>\n",
       "<table border=\"1\" class=\"dataframe\">\n",
       "  <thead>\n",
       "    <tr style=\"text-align: right;\">\n",
       "      <th></th>\n",
       "      <th>Total Variation</th>\n",
       "      <th>Contingency Similarity</th>\n",
       "      <th>Values count</th>\n",
       "      <th>D_JS</th>\n",
       "    </tr>\n",
       "  </thead>\n",
       "  <tbody>\n",
       "    <tr>\n",
       "      <th>Real</th>\n",
       "      <td>1.000000</td>\n",
       "      <td>1.000000</td>\n",
       "      <td>13.0</td>\n",
       "      <td>0.000000</td>\n",
       "    </tr>\n",
       "    <tr>\n",
       "      <th>TRGAN with TDDP</th>\n",
       "      <td>0.999133</td>\n",
       "      <td>0.675548</td>\n",
       "      <td>13.0</td>\n",
       "      <td>0.002905</td>\n",
       "    </tr>\n",
       "    <tr>\n",
       "      <th>TRGAN with RDP-GAN</th>\n",
       "      <td>0.998887</td>\n",
       "      <td>0.675609</td>\n",
       "      <td>13.0</td>\n",
       "      <td>0.003177</td>\n",
       "    </tr>\n",
       "    <tr>\n",
       "      <th>TRGAN with DP AE</th>\n",
       "      <td>0.999249</td>\n",
       "      <td>0.672372</td>\n",
       "      <td>13.0</td>\n",
       "      <td>0.002715</td>\n",
       "    </tr>\n",
       "    <tr>\n",
       "      <th>TRGAN with DPGAN</th>\n",
       "      <td>0.999536</td>\n",
       "      <td>0.677085</td>\n",
       "      <td>13.0</td>\n",
       "      <td>0.002185</td>\n",
       "    </tr>\n",
       "    <tr>\n",
       "      <th>DPGAN</th>\n",
       "      <td>0.548066</td>\n",
       "      <td>0.269539</td>\n",
       "      <td>13.0</td>\n",
       "      <td>0.053898</td>\n",
       "    </tr>\n",
       "    <tr>\n",
       "      <th>PATEGAN</th>\n",
       "      <td>0.284783</td>\n",
       "      <td>0.084897</td>\n",
       "      <td>13.0</td>\n",
       "      <td>0.059386</td>\n",
       "    </tr>\n",
       "  </tbody>\n",
       "</table>\n",
       "</div>"
      ],
      "text/plain": [
       "                    Total Variation  Contingency Similarity  Values count  \\\n",
       "Real                       1.000000                1.000000          13.0   \n",
       "TRGAN with TDDP            0.999133                0.675548          13.0   \n",
       "TRGAN with RDP-GAN         0.998887                0.675609          13.0   \n",
       "TRGAN with DP AE           0.999249                0.672372          13.0   \n",
       "TRGAN with DPGAN           0.999536                0.677085          13.0   \n",
       "DPGAN                      0.548066                0.269539          13.0   \n",
       "PATEGAN                    0.284783                0.084897          13.0   \n",
       "\n",
       "                        D_JS  \n",
       "Real                0.000000  \n",
       "TRGAN with TDDP     0.002905  \n",
       "TRGAN with RDP-GAN  0.003177  \n",
       "TRGAN with DP AE    0.002715  \n",
       "TRGAN with DPGAN    0.002185  \n",
       "DPGAN               0.053898  \n",
       "PATEGAN             0.059386  "
      ]
     },
     "execution_count": 7,
     "metadata": {},
     "output_type": "execute_result"
    }
   ],
   "source": [
    "contig_cols = ['customer', 'mcc']\n",
    "\n",
    "evaluate_categorical([data['mcc'], synth_df['mcc'], synth_df_rdp['mcc'], synth_df_ae['mcc'],\\\n",
    "        synth_df_trgan_dpgan['mcc'], synth_df_dpgan['mcc'], synth_df_pategan['mcc']],\\\n",
    "        index=['Real', 'TRGAN with TDDP', 'TRGAN with RDP-GAN', 'TRGAN with DP AE', 'TRGAN with DPGAN', 'DPGAN', 'PATEGAN'],\\\n",
    "        data_cont_array=[data[contig_cols], synth_df[contig_cols], synth_df_rdp[contig_cols],\\\n",
    "        synth_df_ae[contig_cols], synth_df_trgan_dpgan[contig_cols], synth_df_dpgan[contig_cols], synth_df_pategan[contig_cols]])"
   ]
  },
  {
   "cell_type": "code",
   "execution_count": 8,
   "metadata": {},
   "outputs": [
    {
     "data": {
      "text/html": [
       "<div>\n",
       "<style scoped>\n",
       "    .dataframe tbody tr th:only-of-type {\n",
       "        vertical-align: middle;\n",
       "    }\n",
       "\n",
       "    .dataframe tbody tr th {\n",
       "        vertical-align: top;\n",
       "    }\n",
       "\n",
       "    .dataframe thead th {\n",
       "        text-align: right;\n",
       "    }\n",
       "</style>\n",
       "<table border=\"1\" class=\"dataframe\">\n",
       "  <thead>\n",
       "    <tr style=\"text-align: right;\">\n",
       "      <th></th>\n",
       "      <th>t-closeness</th>\n",
       "    </tr>\n",
       "  </thead>\n",
       "  <tbody>\n",
       "    <tr>\n",
       "      <th>Real</th>\n",
       "      <td>1.048541</td>\n",
       "    </tr>\n",
       "    <tr>\n",
       "      <th>TRGAN with TDDP</th>\n",
       "      <td>1.031266</td>\n",
       "    </tr>\n",
       "    <tr>\n",
       "      <th>TRGAN with RDP-GAN</th>\n",
       "      <td>1.034054</td>\n",
       "    </tr>\n",
       "    <tr>\n",
       "      <th>TRGAN with DP AE</th>\n",
       "      <td>1.034209</td>\n",
       "    </tr>\n",
       "    <tr>\n",
       "      <th>TRGAN with DPGAN</th>\n",
       "      <td>1.037046</td>\n",
       "    </tr>\n",
       "    <tr>\n",
       "      <th>DPGAN</th>\n",
       "      <td>1.024282</td>\n",
       "    </tr>\n",
       "    <tr>\n",
       "      <th>PATEGAN</th>\n",
       "      <td>1.020091</td>\n",
       "    </tr>\n",
       "  </tbody>\n",
       "</table>\n",
       "</div>"
      ],
      "text/plain": [
       "                    t-closeness\n",
       "Real                   1.048541\n",
       "TRGAN with TDDP        1.031266\n",
       "TRGAN with RDP-GAN     1.034054\n",
       "TRGAN with DP AE       1.034209\n",
       "TRGAN with DPGAN       1.037046\n",
       "DPGAN                  1.024282\n",
       "PATEGAN                1.020091"
      ]
     },
     "execution_count": 8,
     "metadata": {},
     "output_type": "execute_result"
    }
   ],
   "source": [
    "quasi_id = ['transaction_date']\n",
    "\n",
    "pd.DataFrame(np.array([\n",
    "    # [k_anonymity(data, quasi_id, 'mcc'), k_anonymity(synth_df, quasi_id, 'mcc'), k_anonymity(synth_df_rdp, quasi_id, 'mcc'),\\\n",
    "    #                     k_anonymity(synth_df_ae, quasi_id, 'mcc'), k_anonymity(synth_df_trgan_dpgan, quasi_id, 'mcc'), k_anonymity(synth_df_dpgan, quasi_id, 'mcc'),\\\n",
    "    #                     k_anonymity(synth_df_pategan, quasi_id, 'mcc')],\\\n",
    "    #                     [l_diversity(data, quasi_id, 'mcc'), l_diversity(synth_df, quasi_id, 'mcc'), l_diversity(synth_df_rdp, quasi_id, 'mcc'),\n",
    "    #                      l_diversity(synth_df_ae, quasi_id, 'mcc'), l_diversity(synth_df_trgan_dpgan, quasi_id, 'mcc'), l_diversity(synth_df_dpgan, quasi_id, 'mcc'),\n",
    "    #                      l_diversity(synth_df_pategan, quasi_id, 'mcc')],\\\n",
    "                        [t_closeness(data, quasi_id, 'amount'), t_closeness(synth_df, quasi_id, 'amount'), t_closeness(synth_df_rdp, quasi_id, 'amount'),\\\n",
    "                        t_closeness(synth_df_ae, quasi_id, 'amount'), t_closeness(synth_df_trgan_dpgan, quasi_id, 'amount'), t_closeness(synth_df_dpgan, quasi_id, 'amount'),\n",
    "                        t_closeness(synth_df_pategan, quasi_id, 'amount')]]).T,\\\n",
    "                        # [l_diversity_cont(data, quasi_id, 'amount'), l_diversity_cont(synth_df, quasi_id, 'amount'), l_diversity_cont(synth_df_dpgan, quasi_id, 'amount')]]).T,\\\n",
    "            columns=['t-closeness'], index=['Real', 'TRGAN with TDDP', 'TRGAN with RDP-GAN', 'TRGAN with DP AE',\\\n",
    "            'TRGAN with DPGAN', 'DPGAN', 'PATEGAN'])"
   ]
  },
  {
   "cell_type": "code",
   "execution_count": null,
   "metadata": {},
   "outputs": [],
   "source": []
  }
 ],
 "metadata": {
  "kernelspec": {
   "display_name": "Python 3",
   "language": "python",
   "name": "python3"
  },
  "language_info": {
   "codemirror_mode": {
    "name": "ipython",
    "version": 3
   },
   "file_extension": ".py",
   "mimetype": "text/x-python",
   "name": "python",
   "nbconvert_exporter": "python",
   "pygments_lexer": "ipython3",
   "version": "3.11.4"
  }
 },
 "nbformat": 4,
 "nbformat_minor": 2
}
